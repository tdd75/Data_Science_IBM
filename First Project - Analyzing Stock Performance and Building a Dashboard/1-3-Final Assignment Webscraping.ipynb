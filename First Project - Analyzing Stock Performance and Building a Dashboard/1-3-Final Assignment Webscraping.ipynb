{
 "cells": [
  {
   "cell_type": "markdown",
   "metadata": {},
   "source": [
    "<center>\n",
    "    <img src=\"https://s3-api.us-geo.objectstorage.softlayer.net/cf-courses-data/CognitiveClass/Logos/organization_logo/organization_logo.png\" width=\"300\" alt=\"cognitiveclass.ai logo\"  />\n",
    "</center>\n"
   ]
  },
  {
   "cell_type": "markdown",
   "metadata": {},
   "source": [
    "<h1>Extracting Stock Data Using a Web Scraping</h1>\n"
   ]
  },
  {
   "cell_type": "markdown",
   "metadata": {},
   "source": [
    "Not all stock data is available via API in this assignment; you will use web-scraping to obtain financial data. You will be quizzed on your results.  \n",
    " Using beautiful soup we will extract historical share data from a web-page.\n"
   ]
  },
  {
   "cell_type": "markdown",
   "metadata": {},
   "source": [
    "<h2>Table of Contents</h2>\n",
    "<div class=\"alert alert-block alert-info\" style=\"margin-top: 20px\">\n",
    "    <ul>\n",
    "        <li>Downloading the Webpage Using Requests Library</li>\n",
    "        <li>Parsing Webpage HTML Using BeautifulSoup</li>\n",
    "        <li>Extracting Data and Building DataFrame</li>\n",
    "    </ul>\n",
    "<p>\n",
    "    Estimated Time Needed: <strong>30 min</strong></p>\n",
    "</div>\n",
    "\n",
    "<hr>\n"
   ]
  },
  {
   "cell_type": "code",
   "execution_count": 1,
   "metadata": {},
   "outputs": [
    {
     "output_type": "stream",
     "name": "stdout",
     "text": [
      "Requirement already satisfied: bs4 in c:\\users\\duy tran\\appdata\\local\\programs\\python\\python37\\lib\\site-packages (0.0.1)\nRequirement already satisfied: beautifulsoup4 in c:\\users\\duy tran\\appdata\\local\\programs\\python\\python37\\lib\\site-packages (from bs4) (4.9.3)\nRequirement already satisfied: soupsieve>1.2 in c:\\users\\duy tran\\appdata\\local\\programs\\python\\python37\\lib\\site-packages (from beautifulsoup4->bs4) (2.2.1)\n"
     ]
    }
   ],
   "source": [
    "#!pip install pandas\n",
    "#!pip install requests\n",
    "!pip install bs4\n",
    "#!pip install plotly"
   ]
  },
  {
   "cell_type": "code",
   "execution_count": 2,
   "metadata": {},
   "outputs": [],
   "source": [
    "import pandas as pd\n",
    "import requests\n",
    "from bs4 import BeautifulSoup"
   ]
  },
  {
   "cell_type": "markdown",
   "metadata": {},
   "source": [
    "## Using Webscraping to Extract Stock Data\n"
   ]
  },
  {
   "cell_type": "markdown",
   "metadata": {},
   "source": [
    "Use the `requests` library to download the webpage [https://finance.yahoo.com/quote/AMZN/history?period1=1451606400&period2=1612137600&interval=1mo&filter=history&frequency=1mo&includeAdjustedClose=true](https://finance.yahoo.com/quote/AMZN/history?period1=1451606400&period2=1612137600&interval=1mo&filter=history&frequency=1mo&includeAdjustedClose=true&cm_mmc=Email_Newsletter-_-Developer_Ed%2BTech-_-WW_WW-_-SkillsNetwork-Courses-IBMDeveloperSkillsNetwork-PY0220EN-SkillsNetwork-23455606&cm_mmca1=000026UJ&cm_mmca2=10006555&cm_mmca3=M12345678&cvosrc=email.Newsletter.M12345678&cvo_campaign=000026UJ&cm_mmc=Email_Newsletter-_-Developer_Ed%2BTech-_-WW_WW-_-SkillsNetwork-Courses-IBMDeveloperSkillsNetwork-PY0220EN-SkillsNetwork-23455606&cm_mmca1=000026UJ&cm_mmca2=10006555&cm_mmca3=M12345678&cvosrc=email.Newsletter.M12345678&cvo_campaign=000026UJ&cm_mmc=Email_Newsletter-_-Developer_Ed%2BTech-_-WW_WW-_-SkillsNetwork-Courses-IBMDeveloperSkillsNetwork-PY0220EN-SkillsNetwork-23455606&cm_mmca1=000026UJ&cm_mmca2=10006555&cm_mmca3=M12345678&cvosrc=email.Newsletter.M12345678&cvo_campaign=000026UJ&cm_mmc=Email_Newsletter-_-Developer_Ed%2BTech-_-WW_WW-_-SkillsNetwork-Courses-IBMDeveloperSkillsNetwork-PY0220EN-SkillsNetwork-23455606&cm_mmca1=000026UJ&cm_mmca2=10006555&cm_mmca3=M12345678&cvosrc=email.Newsletter.M12345678&cvo_campaign=000026UJ). Save the text of the response as a variable named `html_data`.\n"
   ]
  },
  {
   "cell_type": "code",
   "execution_count": 3,
   "metadata": {},
   "outputs": [],
   "source": [
    "url = 'https://finance.yahoo.com/quote/AMZN/history?period1=1451606400&period2=1612137600&interval=1mo&filter=history&frequency=1mo&includeAdjustedClose=true'\n",
    "r = requests.get(url)\n",
    "html_data = r.text"
   ]
  },
  {
   "cell_type": "markdown",
   "metadata": {},
   "source": [
    "Parse the html data using `beautiful_soup`.\n"
   ]
  },
  {
   "cell_type": "code",
   "execution_count": 4,
   "metadata": {},
   "outputs": [],
   "source": [
    "soup = BeautifulSoup(html_data, 'html5lib')"
   ]
  },
  {
   "cell_type": "markdown",
   "metadata": {},
   "source": [
    "<b>Question 1</b> what is the content of the title attribute:\n"
   ]
  },
  {
   "cell_type": "code",
   "execution_count": 14,
   "metadata": {},
   "outputs": [
    {
     "output_type": "execute_result",
     "data": {
      "text/plain": [
       "'Amazon.com, Inc. (AMZN) Stock Historical Prices & Data - Yahoo Finance'"
      ]
     },
     "metadata": {},
     "execution_count": 14
    }
   ],
   "source": [
    "soup.find_all('title')[0].text"
   ]
  },
  {
   "cell_type": "markdown",
   "metadata": {},
   "source": [
    "Using beautiful soup extract the table with historical share prices and store it into a dataframe named `amazon_data`. The dataframe should have columns Date, Open, High, Low, Close, Adj Close, and Volume. Fill in each variable with the correct data from the list `col`. \n",
    "\n",
    "Hint: Print the `col` list to see what data to use\n"
   ]
  },
  {
   "cell_type": "code",
   "execution_count": 15,
   "metadata": {},
   "outputs": [],
   "source": [
    "amazon_data = pd.DataFrame(columns=[\"Date\", \"Open\", \"High\", \"Low\", \"Close\", \"Volume\"])\n",
    "\n",
    "for row in soup.find(\"tbody\").find_all(\"tr\"):\n",
    "    col = row.find_all(\"td\")\n",
    "    date =col[0].text\n",
    "    Open = col[1].text\n",
    "    high = col[2].text\n",
    "    low = col[3].text\n",
    "    close = col[4].text\n",
    "    adj_close = col[5].text\n",
    "    volume = col[6].text\n",
    "    amazon_data = amazon_data.append({\"Date\":date, \"Open\":Open, \"High\":high, \"Low\":low, \"Close\":close, \"Adj Close\":adj_close, \"Volume\":volume}, ignore_index=True)"
   ]
  },
  {
   "cell_type": "markdown",
   "metadata": {},
   "source": [
    "Print out the first five rows of the `amazon_data` dataframe you created.\n"
   ]
  },
  {
   "cell_type": "code",
   "execution_count": 34,
   "metadata": {},
   "outputs": [
    {
     "output_type": "execute_result",
     "data": {
      "text/plain": [
       "            Date      Open      High       Low     Close       Volume  \\\n",
       "0   Jan 01, 2021  3,270.00  3,363.89  3,086.00  3,206.20   71,528,900   \n",
       "1   Dec 01, 2020  3,188.50  3,350.65  3,072.82  3,256.93   77,556,200   \n",
       "2   Nov 01, 2020  3,061.74  3,366.80  2,950.12  3,168.04   90,810,500   \n",
       "3   Oct 01, 2020  3,208.00  3,496.24  3,019.00  3,036.15  116,226,100   \n",
       "4   Sep 01, 2020  3,489.58  3,552.25  2,871.00  3,148.73  115,899,300   \n",
       "5   Aug 01, 2020  3,180.51  3,495.00  3,073.00  3,450.96   83,516,600   \n",
       "6   Jul 01, 2020  2,757.99  3,344.29  2,754.00  3,164.68  127,502,000   \n",
       "7   Jun 01, 2020  2,448.00  2,796.00  2,437.13  2,758.82   87,818,300   \n",
       "8   May 01, 2020  2,336.80  2,525.45  2,256.38  2,442.37   82,584,400   \n",
       "9   Apr 01, 2020  1,932.97  2,475.00  1,889.15  2,474.00  124,609,800   \n",
       "10  Mar 01, 2020  1,906.49  1,996.33  1,626.03  1,949.72  163,809,100   \n",
       "11  Feb 01, 2020  2,010.60  2,185.95  1,811.13  1,883.75   92,510,100   \n",
       "12  Jan 01, 2020  1,875.00  2,055.72  1,815.34  2,008.72   84,698,300   \n",
       "13  Dec 01, 2019  1,804.40  1,901.40  1,735.00  1,847.84   68,149,600   \n",
       "14  Nov 01, 2019  1,788.01  1,824.69  1,722.71  1,800.80   52,076,200   \n",
       "15  Oct 01, 2019  1,746.00  1,798.85  1,685.06  1,776.66   70,360,500   \n",
       "16  Sep 01, 2019  1,770.00  1,853.66  1,709.22  1,735.91   61,172,900   \n",
       "17  Aug 01, 2019  1,871.72  1,897.92  1,743.51  1,776.29   79,771,200   \n",
       "18  Jul 01, 2019  1,922.98  2,035.80  1,849.44  1,866.78   73,148,800   \n",
       "19  Jun 01, 2019  1,760.01  1,935.20  1,672.00  1,893.63   74,746,500   \n",
       "\n",
       "   Adj Close  \n",
       "0   3,206.20  \n",
       "1   3,256.93  \n",
       "2   3,168.04  \n",
       "3   3,036.15  \n",
       "4   3,148.73  \n",
       "5   3,450.96  \n",
       "6   3,164.68  \n",
       "7   2,758.82  \n",
       "8   2,442.37  \n",
       "9   2,474.00  \n",
       "10  1,949.72  \n",
       "11  1,883.75  \n",
       "12  2,008.72  \n",
       "13  1,847.84  \n",
       "14  1,800.80  \n",
       "15  1,776.66  \n",
       "16  1,735.91  \n",
       "17  1,776.29  \n",
       "18  1,866.78  \n",
       "19  1,893.63  "
      ],
      "text/html": "<div>\n<style scoped>\n    .dataframe tbody tr th:only-of-type {\n        vertical-align: middle;\n    }\n\n    .dataframe tbody tr th {\n        vertical-align: top;\n    }\n\n    .dataframe thead th {\n        text-align: right;\n    }\n</style>\n<table border=\"1\" class=\"dataframe\">\n  <thead>\n    <tr style=\"text-align: right;\">\n      <th></th>\n      <th>Date</th>\n      <th>Open</th>\n      <th>High</th>\n      <th>Low</th>\n      <th>Close</th>\n      <th>Volume</th>\n      <th>Adj Close</th>\n    </tr>\n  </thead>\n  <tbody>\n    <tr>\n      <th>0</th>\n      <td>Jan 01, 2021</td>\n      <td>3,270.00</td>\n      <td>3,363.89</td>\n      <td>3,086.00</td>\n      <td>3,206.20</td>\n      <td>71,528,900</td>\n      <td>3,206.20</td>\n    </tr>\n    <tr>\n      <th>1</th>\n      <td>Dec 01, 2020</td>\n      <td>3,188.50</td>\n      <td>3,350.65</td>\n      <td>3,072.82</td>\n      <td>3,256.93</td>\n      <td>77,556,200</td>\n      <td>3,256.93</td>\n    </tr>\n    <tr>\n      <th>2</th>\n      <td>Nov 01, 2020</td>\n      <td>3,061.74</td>\n      <td>3,366.80</td>\n      <td>2,950.12</td>\n      <td>3,168.04</td>\n      <td>90,810,500</td>\n      <td>3,168.04</td>\n    </tr>\n    <tr>\n      <th>3</th>\n      <td>Oct 01, 2020</td>\n      <td>3,208.00</td>\n      <td>3,496.24</td>\n      <td>3,019.00</td>\n      <td>3,036.15</td>\n      <td>116,226,100</td>\n      <td>3,036.15</td>\n    </tr>\n    <tr>\n      <th>4</th>\n      <td>Sep 01, 2020</td>\n      <td>3,489.58</td>\n      <td>3,552.25</td>\n      <td>2,871.00</td>\n      <td>3,148.73</td>\n      <td>115,899,300</td>\n      <td>3,148.73</td>\n    </tr>\n    <tr>\n      <th>5</th>\n      <td>Aug 01, 2020</td>\n      <td>3,180.51</td>\n      <td>3,495.00</td>\n      <td>3,073.00</td>\n      <td>3,450.96</td>\n      <td>83,516,600</td>\n      <td>3,450.96</td>\n    </tr>\n    <tr>\n      <th>6</th>\n      <td>Jul 01, 2020</td>\n      <td>2,757.99</td>\n      <td>3,344.29</td>\n      <td>2,754.00</td>\n      <td>3,164.68</td>\n      <td>127,502,000</td>\n      <td>3,164.68</td>\n    </tr>\n    <tr>\n      <th>7</th>\n      <td>Jun 01, 2020</td>\n      <td>2,448.00</td>\n      <td>2,796.00</td>\n      <td>2,437.13</td>\n      <td>2,758.82</td>\n      <td>87,818,300</td>\n      <td>2,758.82</td>\n    </tr>\n    <tr>\n      <th>8</th>\n      <td>May 01, 2020</td>\n      <td>2,336.80</td>\n      <td>2,525.45</td>\n      <td>2,256.38</td>\n      <td>2,442.37</td>\n      <td>82,584,400</td>\n      <td>2,442.37</td>\n    </tr>\n    <tr>\n      <th>9</th>\n      <td>Apr 01, 2020</td>\n      <td>1,932.97</td>\n      <td>2,475.00</td>\n      <td>1,889.15</td>\n      <td>2,474.00</td>\n      <td>124,609,800</td>\n      <td>2,474.00</td>\n    </tr>\n    <tr>\n      <th>10</th>\n      <td>Mar 01, 2020</td>\n      <td>1,906.49</td>\n      <td>1,996.33</td>\n      <td>1,626.03</td>\n      <td>1,949.72</td>\n      <td>163,809,100</td>\n      <td>1,949.72</td>\n    </tr>\n    <tr>\n      <th>11</th>\n      <td>Feb 01, 2020</td>\n      <td>2,010.60</td>\n      <td>2,185.95</td>\n      <td>1,811.13</td>\n      <td>1,883.75</td>\n      <td>92,510,100</td>\n      <td>1,883.75</td>\n    </tr>\n    <tr>\n      <th>12</th>\n      <td>Jan 01, 2020</td>\n      <td>1,875.00</td>\n      <td>2,055.72</td>\n      <td>1,815.34</td>\n      <td>2,008.72</td>\n      <td>84,698,300</td>\n      <td>2,008.72</td>\n    </tr>\n    <tr>\n      <th>13</th>\n      <td>Dec 01, 2019</td>\n      <td>1,804.40</td>\n      <td>1,901.40</td>\n      <td>1,735.00</td>\n      <td>1,847.84</td>\n      <td>68,149,600</td>\n      <td>1,847.84</td>\n    </tr>\n    <tr>\n      <th>14</th>\n      <td>Nov 01, 2019</td>\n      <td>1,788.01</td>\n      <td>1,824.69</td>\n      <td>1,722.71</td>\n      <td>1,800.80</td>\n      <td>52,076,200</td>\n      <td>1,800.80</td>\n    </tr>\n    <tr>\n      <th>15</th>\n      <td>Oct 01, 2019</td>\n      <td>1,746.00</td>\n      <td>1,798.85</td>\n      <td>1,685.06</td>\n      <td>1,776.66</td>\n      <td>70,360,500</td>\n      <td>1,776.66</td>\n    </tr>\n    <tr>\n      <th>16</th>\n      <td>Sep 01, 2019</td>\n      <td>1,770.00</td>\n      <td>1,853.66</td>\n      <td>1,709.22</td>\n      <td>1,735.91</td>\n      <td>61,172,900</td>\n      <td>1,735.91</td>\n    </tr>\n    <tr>\n      <th>17</th>\n      <td>Aug 01, 2019</td>\n      <td>1,871.72</td>\n      <td>1,897.92</td>\n      <td>1,743.51</td>\n      <td>1,776.29</td>\n      <td>79,771,200</td>\n      <td>1,776.29</td>\n    </tr>\n    <tr>\n      <th>18</th>\n      <td>Jul 01, 2019</td>\n      <td>1,922.98</td>\n      <td>2,035.80</td>\n      <td>1,849.44</td>\n      <td>1,866.78</td>\n      <td>73,148,800</td>\n      <td>1,866.78</td>\n    </tr>\n    <tr>\n      <th>19</th>\n      <td>Jun 01, 2019</td>\n      <td>1,760.01</td>\n      <td>1,935.20</td>\n      <td>1,672.00</td>\n      <td>1,893.63</td>\n      <td>74,746,500</td>\n      <td>1,893.63</td>\n    </tr>\n  </tbody>\n</table>\n</div>"
     },
     "metadata": {},
     "execution_count": 34
    }
   ],
   "source": [
    "amazon_data.head(20)"
   ]
  },
  {
   "cell_type": "markdown",
   "metadata": {},
   "source": [
    "<b>Question 2</b> What is the name of the columns of the dataframe \n"
   ]
  },
  {
   "cell_type": "code",
   "execution_count": 25,
   "metadata": {},
   "outputs": [
    {
     "output_type": "execute_result",
     "data": {
      "text/plain": [
       "Index(['Date', 'Open', 'High', 'Low', 'Close', 'Volume', 'Adj Close'], dtype='object')"
      ]
     },
     "metadata": {},
     "execution_count": 25
    }
   ],
   "source": [
    "amazon_data.columns"
   ]
  },
  {
   "cell_type": "markdown",
   "metadata": {},
   "source": [
    "<b>Question 3</b> What is the `Open` of `Jun 01, 2019` of the dataframe?\n"
   ]
  },
  {
   "cell_type": "code",
   "execution_count": 57,
   "metadata": {},
   "outputs": [
    {
     "output_type": "stream",
     "name": "stdout",
     "text": [
      "1760.01\n"
     ]
    }
   ],
   "source": [
    "query = amazon_data[amazon_data.Date == 'Jun 01, 2019']['Open'].values[0]\n",
    "print(float(query.replace(',', '')))\n",
    "# amazon_data.query('Date == \"Jun 01, 2019\"')"
   ]
  },
  {
   "cell_type": "markdown",
   "metadata": {},
   "source": [
    "<h2>About the Authors:</h2> \n",
    "\n",
    "<a href=\"https://www.linkedin.com/in/joseph-s-50398b136/\">Joseph Santarcangelo</a> has a PhD in Electrical Engineering, his research focused on using machine learning, signal processing, and computer vision to determine how videos impact human cognition. Joseph has been working for IBM since he completed his PhD.\n",
    "\n",
    "Azim Hirjani\n"
   ]
  },
  {
   "cell_type": "markdown",
   "metadata": {},
   "source": [
    "## Change Log\n",
    "\n",
    "| Date (YYYY-MM-DD) | Version | Changed By    | Change Description        |\n",
    "| ----------------- | ------- | ------------- | ------------------------- |\n",
    "| 2020-11-10        | 1.1     | Malika Singla | Deleted the Optional part |\n",
    "| 2020-08-27        | 1.0     | Malika Singla | Added lab to GitLab       |\n",
    "\n",
    "<hr>\n",
    "\n",
    "## <h3 align=\"center\"> © IBM Corporation 2020. All rights reserved. <h3/>\n",
    "\n",
    "<p>\n"
   ]
  }
 ],
 "metadata": {
  "kernelspec": {
   "name": "python379jvsc74a57bd09f4725d9cba8e6bd3e5eb8b6487ed76c4fc4aea68cd39d1f772b56f77fb68149",
   "display_name": "Python 3.7.9 64-bit"
  },
  "language_info": {
   "codemirror_mode": {
    "name": "ipython",
    "version": 3
   },
   "file_extension": ".py",
   "mimetype": "text/x-python",
   "name": "python",
   "nbconvert_exporter": "python",
   "pygments_lexer": "ipython3",
   "version": "3.7.9"
  }
 },
 "nbformat": 4,
 "nbformat_minor": 4
}